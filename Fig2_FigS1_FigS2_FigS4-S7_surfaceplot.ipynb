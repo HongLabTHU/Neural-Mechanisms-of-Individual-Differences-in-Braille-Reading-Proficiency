{
 "cells": [
  {
   "cell_type": "markdown",
   "metadata": {},
   "source": [
    "this code is from /Users/rinsen/New_Journey/VWFA/My_paper/result20211219/plot_BlindProj_20211219.ipynb"
   ]
  },
  {
   "cell_type": "code",
   "execution_count": 1,
   "metadata": {},
   "outputs": [
    {
     "name": "stderr",
     "output_type": "stream",
     "text": [
      "/Users/rinsen/opt/anaconda3/lib/python3.8/site-packages/scipy/__init__.py:146: UserWarning: A NumPy version >=1.16.5 and <1.23.0 is required for this version of SciPy (detected version 1.24.4\n",
      "  warnings.warn(f\"A NumPy version >={np_minversion} and <{np_maxversion}\"\n"
     ]
    }
   ],
   "source": [
    "%matplotlib inline\n",
    "import os\n",
    "import os.path as op\n",
    "#from numpy import arange, linspace\n",
    "#from numpy.random import permutation\n",
    "import nibabel as nib\n",
    "from surfer import Brain, io\n",
    "from mayavi import mlab\n",
    "from scipy.io import loadmat\n",
    "import numpy as np"
   ]
  },
  {
   "cell_type": "code",
   "execution_count": null,
   "metadata": {
    "collapsed": true
   },
   "outputs": [],
   "source": [
    "subject_id = \"fsaverage\"\n",
    "subjects_dir = os.environ[\"SUBJECTS_DIR\"]\n",
    "annot_path_lh = op.join(subjects_dir, subject_id, \"label/lh.aparc.a2009s.annot\")\n",
    "ids_lh, ctab_lh, names_lh = nib.freesurfer.read_annot(annot_path_lh)\n",
    "#print(names_lh)\n",
    "annot_path_rh = op.join(subjects_dir, subject_id, \"label/rh.aparc.a2009s.annot\")\n",
    "ids_rh, ctab_rh, names_rh = nib.freesurfer.read_annot(annot_path_rh)\n",
    "#print(names_rh)\n",
    "\n",
    "LOC_labels = [b'G_and_S_occipital_inf', b'G_occipital_middle', b'S_oc_middle_and_Lunatus', \n",
    "                     b'S_occipital_ant', b'S_oc-temp_lat']\n",
    "V1_labels = [b'Pole_occipital', b'S_calcarine']\n",
    "\n",
    "coords_lh = []\n",
    "coords_rh = []\n",
    "verts_lh = np.arange(0, len(ids_lh))\n",
    "verts_rh = np.arange(0, len(ids_rh))\n",
    "coords_lh_LOC = np.array([verts_lh[ids_lh == names_lh.index(LOC_labels[ilabel])] for ilabel in range(len(LOC_labels))])\n",
    "coords_rh_LOC = np.array([verts_rh[ids_rh == names_rh.index(LOC_labels[ilabel])] for ilabel in range(len(LOC_labels))])\n",
    "coords_lh_LOC = np.hstack(coords_lh_LOC)\n",
    "coords_rh_LOC = np.hstack(coords_rh_LOC)\n",
    "\n",
    "coords_lh_V1 = np.array([verts_lh[ids_lh == names_lh.index(V1_labels[ilabel])] for ilabel in range(len(V1_labels))])\n",
    "coords_rh_V1 = np.array([verts_rh[ids_rh == names_rh.index(V1_labels[ilabel])] for ilabel in range(len(V1_labels))])\n",
    "coords_lh_V1 = np.hstack(coords_lh_V1)\n",
    "coords_rh_V1 = np.hstack(coords_rh_V1)\n"
   ]
  },
  {
   "cell_type": "markdown",
   "metadata": {},
   "source": [
    "# Definition of the LOC and V1 seed"
   ]
  },
  {
   "cell_type": "code",
   "execution_count": 4,
   "metadata": {},
   "outputs": [],
   "source": [
    "class LOC:\n",
    "    def __init__(self, hemi, vertices, name):\n",
    "        self.hemi = hemi\n",
    "        self.vertices = vertices\n",
    "        self.name = name\n",
    "class V1:\n",
    "    def __init__(self, hemi, vertices, name):\n",
    "        self.hemi = hemi\n",
    "        self.vertices = vertices\n",
    "        self.name = name"
   ]
  },
  {
   "cell_type": "markdown",
   "metadata": {},
   "source": [
    "\n",
    "# USE! Display rsFCmap values for left Seed\n",
    "\n",
    "(Fig2, FigS2)"
   ]
  },
  {
   "cell_type": "code",
   "execution_count": 7,
   "metadata": {},
   "outputs": [
    {
     "name": "stdout",
     "output_type": "stream",
     "text": [
      "[0. 0. 0. ... 0. 0. 0.]\n"
     ]
    }
   ],
   "source": [
    "subject_id = \"fsaverage\"\n",
    "hemi = \"lh\"\n",
    "surf = \"inflated_pre\"\n",
    "\n",
    "brain = Brain(subject_id, hemi, surf, cortex = [np.array((205, 201, 194)) / 255.], background=\"white\", alpha = 1)  \n",
    "\n",
    "# rsFC\n",
    "figname = 'BS_LOC_seedlh_tarlh'\n",
    "overlay_fs = \"../Data/rsFCmap/extrastriatefull0_B_S_stats/seed_lh_tar_lh/Sigcluster_corrected001_fs_sm6.nii.gz\"\n",
    "#overlay_fs = \"../Data/rsFCmap/extrastriatefull0_B_S_stats/seed_lh_tar_lh/Brocasfull0_fr_seed_lh_tar_lh_001_meanFD_fs_sm6.nii.gz\"\n",
    "\n",
    "#figname = 'BV1_seedlh_tarlh_lat'\n",
    "#overlay_fs = \"../Data/rsFCmap/extrastriatefull0_B_grp/seed_lh_tar_rh/mask/B_mask_100mm_t_tailed_fs_sm4.nii.gz\"\n",
    "#overlay_fs = \"../Data/rsFCmap/extrastriatefull0_S_grp/seed_lh_tar_rh/mask/S_mask_100mm_t_tailed_fs_sm4.nii.gz\"\n",
    "#overlay_fs = \"../Data/rsFCmap/striate_B_grp/seed_lh_tar_lh/mask/B_mask_100mm_t_tailed_fs_sm4.nii.gz\"\n",
    "#overlay_fs = \"../Data/rsFCmap/striate_S_grp/seed_lh_tar_lh/mask/S_mask_100mm_t_tailed_fs_sm4.nii.gz\"\n",
    "\n",
    "overlay_fs_data = io.read_scalar_data(overlay_fs)\n",
    "print(overlay_fs_data)\n",
    "\n",
    "# rsFC \n",
    "# for B vs S plot\n",
    "brain.add_data(overlay_fs_data, thresh=None, min = 1.5, mid=3.5, max=6, center=None, transparent=True, colormap = \"Reds\") \n",
    "# for B / S plot\n",
    "#brain.add_data(overlay_fs_data, thresh=None, min=5, mid=9, max=25, center=None, transparent=True, colormap = \"Reds\") \n",
    "\n",
    "\"\"\"\n",
    "# add ROIs\n",
    "figname = 'BS_LOC_seedlh_tarlh_withLV1'\n",
    "#brain.add_label(LOC(hemi, coords_lh_LOC, 'LOC'), borders = False, alpha = 1, color = '#fde989')  \n",
    "#brain.add_label(LOC(hemi, coords_rh_LOC, 'LOC'), borders = False, alpha = 1, color = '#fde989')  \n",
    "brain.add_label(LOC(hemi, coords_lh_V1, 'V1'), borders = False, alpha = 1, color = '#BEF9CE')  \n",
    "#brain.add_label(LOC(hemi, coords_rh_V1, 'V1'), borders = False, alpha = 1, color = '#BEF9CE')  \n",
    "\"\"\"\n",
    "\n",
    "mlab.show()"
   ]
  },
  {
   "cell_type": "markdown",
   "metadata": {},
   "source": [
    "\n",
    "# USE! Display rsFCmap values for right Seed\n",
    "\n",
    "(FigS1)\n"
   ]
  },
  {
   "cell_type": "code",
   "execution_count": 9,
   "metadata": {},
   "outputs": [
    {
     "name": "stdout",
     "output_type": "stream",
     "text": [
      "colormap sequential: [1.50e+00, 3.50e+00, 6.00e+00] (transparent)\n"
     ]
    }
   ],
   "source": [
    "subject_id = \"fsaverage\"\n",
    "hemi = \"lh\"\n",
    "surf = \"inflated_pre\"\n",
    "\n",
    "brain = Brain(subject_id, hemi, surf, cortex = [np.array((205, 201, 194)) / 255.], background=\"white\", alpha = 1)  \n",
    "\n",
    "# rsFC\n",
    "figname = 'BS_LOC_seedlh_tarlh'\n",
    "overlay_fs = \"../Data/rsFCmap/extrastriatefull0_B_S_stats/seed_lh_tar_lh/Sigcluster_corrected001_fs_sm6.nii.gz\"\n",
    "#overlay_fs = \"../Data/rsFCmap/extrastriatefull0_B_S_stats/seed_lh_tar_lh/Brocasfull0_fr_seed_lh_tar_lh_001_meanFD_fs_sm6.nii.gz\"\n",
    "\n",
    "#figname = 'BV1_seedlh_tarlh_lat'\n",
    "#overlay_fs = \"../Data/rsFCmap/extrastriatefull0_B_grp/seed_lh_tar_rh/mask/B_mask_100mm_t_tailed_fs_sm4.nii.gz\"\n",
    "#overlay_fs = \"../Data/rsFCmap/extrastriatefull0_S_grp/seed_lh_tar_rh/mask/S_mask_100mm_t_tailed_fs_sm4.nii.gz\"\n",
    "#overlay_fs = \"../Data/rsFCmap/striate_B_grp/seed_lh_tar_lh/mask/B_mask_100mm_t_tailed_fs_sm4.nii.gz\"\n",
    "#overlay_fs = \"../Data/rsFCmap/striate_S_grp/seed_lh_tar_lh/mask/S_mask_100mm_t_tailed_fs_sm4.nii.gz\"\n",
    "\n",
    "overlay_fs_data = io.read_scalar_data(overlay_fs)\n",
    "\n",
    "# rsFC \n",
    "# for B vs S plot\n",
    "brain.add_data(overlay_fs_data, thresh=None, min = 1.5, mid=3.5, max=6, center=None, transparent=True, colormap = \"Reds\", colorbar=False) \n",
    "# for B / S plot\n",
    "#brain.add_data(overlay_fs_data, thresh=None, min=5, mid=9, max=25, center=None, transparent=True, colormap = \"Reds\", colorbar=False) \n",
    "\n",
    "\"\"\"\n",
    "# add ROIs\n",
    "figname = 'BS_LOC_seedlh_tarlh_withLV1'\n",
    "#brain.add_label(LOC(hemi, coords_lh_LOC, 'LOC'), borders = False, alpha = 1, color = '#fde989')  \n",
    "#brain.add_label(LOC(hemi, coords_rh_LOC, 'LOC'), borders = False, alpha = 1, color = '#fde989')  \n",
    "brain.add_label(LOC(hemi, coords_lh_V1, 'V1'), borders = False, alpha = 1, color = '#BEF9CE')  \n",
    "#brain.add_label(LOC(hemi, coords_rh_V1, 'V1'), borders = False, alpha = 1, color = '#BEF9CE')  \n",
    "\"\"\"\n",
    "\n",
    "mlab.show()"
   ]
  },
  {
   "cell_type": "code",
   "execution_count": 11,
   "metadata": {},
   "outputs": [
    {
     "name": "stdout",
     "output_type": "stream",
     "text": [
      "colormap sequential: [-1.00e+00, 2.50e+00, 8.50e+00] (transparent)\n"
     ]
    }
   ],
   "source": [
    "subject_id = \"fsaverage\"\n",
    "hemi = \"rh\"\n",
    "surf = \"inflated_pre\"\n",
    "\n",
    "brain = Brain(subject_id, hemi, surf, cortex = [np.array((205, 201, 194)) / 255.], background=\"white\", alpha = 1)  \n",
    "\n",
    "# rsFC\n",
    "#figname = 'BS_LOC_seedrh_tarlh'\n",
    "overlay_fs = \"../Data/rsFCmap/extrastriatefull0_B_S_stats/seed_rh_tar_lh/Sigcluster_corrected001_fs_sm6.nii.gz\"\n",
    "#overlay_fs = \"../Data/rsFCmap/extrastriatefull0_B_S_stats/seed_rh_tar_lh/Brocasfull0_fr_seed_lh_tar_lh_001_meanFD_fs_sm6.nii.gz\"\n",
    "\n",
    "#figname = 'SV1_seedrh_tarrh_lat'\n",
    "#overlay_fs = \"../Data/rsFCmap/extrastriatefull0_B_grp/seed_rh_tar_rh/mask/B_mask_100mm_t_tailed_fs_sm4.nii.gz\"\n",
    "#overlay_fs = \"../Data/rsFCmap/extrastriatefull0_S_grp/seed_rh_tar_rh/mask/S_mask_100mm_t_tailed_fs_sm4.nii.gz\"\n",
    "#overlay_fs = \"../Data/rsFCmap/striate_B_grp/seed_rh_tar_rh/mask/B_mask_100mm_t_tailed_fs_sm4.nii.gz\"\n",
    "#overlay_fs = \"../Data/rsFCmap/striate_S_grp/seed_rh_tar_rh/mask/S_mask_100mm_t_tailed_fs_sm4.nii.gz\"\n",
    "\n",
    "overlay_fs_data = io.read_scalar_data(overlay_fs)\n",
    "\n",
    "# rsFC \n",
    "# for B vs S plot, mid is lightly smaller than (min+max)/2 to make the IFC cluster more prominent\n",
    "#brain.add_data(overlay_fs_data, thresh=None, min = 1.5, mid=3.5, max=6, center=None, transparent=True, colormap = \"Reds\") \n",
    "# for B / S plot\n",
    "#brain.add_data(overlay_fs_data, thresh=None, min=5, mid=9, max=25, center=None, transparent=True, colormap = \"Reds\") \n",
    "\n",
    "# SI_Task \n",
    "brain.add_data(overlay_fs_data, thresh=None, min = -1, mid = 2.5, max=8.5, center=None, transparent=True, colormap = \"Reds\") \n",
    "\n",
    "mlab.show()"
   ]
  },
  {
   "cell_type": "markdown",
   "metadata": {},
   "source": [
    "\n",
    "# USE! Display task activations"
   ]
  },
  {
   "cell_type": "markdown",
   "metadata": {},
   "source": [
    "## Display [Braille>Blank] for each group\n",
    "(FigS5)"
   ]
  },
  {
   "cell_type": "code",
   "execution_count": 5,
   "metadata": {},
   "outputs": [
    {
     "name": "stdout",
     "output_type": "stream",
     "text": [
      "colormap sequential: [-1.00e+00, 2.50e+00, 8.50e+00] (transparent)\n"
     ]
    }
   ],
   "source": [
    "subject_id = \"fsaverage\"\n",
    "hemi = \"lh\"\n",
    "surf = \"inflated_pre\"\n",
    "\n",
    "brain = Brain(subject_id, hemi, surf, cortex = [np.array((205, 201, 194)) / 255.], background=\"white\", alpha = 1)  \n",
    "\n",
    "#SI_Task\n",
    "# for Bgrp Braille>blank\n",
    "#figname = 'Bgrp_T_' + hemi\n",
    "#overlay_fs = \"../Data/Task/SI_grpGLM/Braille_Blank/T_mask_lh_fs_sm6.nii.gz\"\n",
    "#overlay_fs = \"../Data/Task/SI_grpGLM/Braille_Blank_rh/T_mask_rh_fs_sm6.nii.gz\"\n",
    "\n",
    "# for Sgrp Braille>blank\n",
    "figname = 'Sgrp_T_' + hemi\n",
    "overlay_fs = \"../Data/Task/SI_grpGLM/Braille_Blank_S/T_mask_lh_fs_sm6.nii.gz\"\n",
    "#overlay_fs = \"../Data/Task/SI_grpGLM/Braille_Blank_rh_S/T_mask_rh_fs_sm6.nii.gz\"\n",
    "\n",
    "\n",
    "overlay_fs_data = io.read_scalar_data(overlay_fs)\n",
    "\n",
    "# SI_Task \n",
    "brain.add_data(overlay_fs_data, thresh=None, min = -1, mid = 2.5, max=8.5, center=None, transparent=True, colormap = \"Reds\") \n",
    "\n",
    "mlab.show()"
   ]
  },
  {
   "cell_type": "markdown",
   "metadata": {},
   "source": [
    "## Display [Braille>Blank] * [Blind>Sighted] interaction effect 20230802\n",
    "(Fig S4), USE p<0.05, FWE result "
   ]
  },
  {
   "cell_type": "code",
   "execution_count": 13,
   "metadata": {},
   "outputs": [
    {
     "name": "stdout",
     "output_type": "stream",
     "text": [
      "colormap sequential: [1.00e+00, 1.29e+01, 3.50e+01] (transparent)\n"
     ]
    }
   ],
   "source": [
    "subject_id = \"fsaverage\"\n",
    "hemi = \"rh\" # \"lh\"\n",
    "surf = \"inflated_pre\"\n",
    "\n",
    "brain = Brain(subject_id, hemi, surf, cortex = [np.array((205, 201, 194)) / 255.], background=\"white\", alpha = 1)  \n",
    "\n",
    "#SI_Task\n",
    "figname = 'BS_interaction_F_' + hemi\n",
    "# overlay_fs = \"../Data/Task/SI_grpGLM/interaction_F/F_FWE_lh_Bstronger_fs_sm6.nii.gz\"\n",
    "overlay_fs = \"../Data/Task/SI_grpGLM/interaction_F_rh/F_FWE_rh_Bstronger_fs_sm6.nii.gz\"\n",
    "\n",
    "\n",
    "overlay_fs_data = io.read_scalar_data(overlay_fs)\n",
    "\n",
    "# SI_Task \n",
    "# for p<0.001, 5 thre result:\n",
    "# brain.add_data(overlay_fs_data, thresh=None, min = 12.9, mid = 16, max=35, center=None, transparent=True, colormap = \"Reds\") \n",
    "# for p<0.05, FWE result: min_real = 25.72\n",
    "brain.add_data(overlay_fs_data, thresh=None, min = 1, mid = 12.9, max=35, center=None, transparent=True, colormap = \"Reds\") \n",
    "\n",
    "## save brain plot results\n",
    "brain.save_image('/Users/rinsen/New_Journey/VWFA/My_paper/paper_20190727/AllFigures/Figs_ai20211219/processing/' + figname + '.png')\n",
    "\n",
    "mlab.show()"
   ]
  },
  {
   "cell_type": "markdown",
   "metadata": {},
   "source": [
    "## USE! Display GrpPPI sig map for SI\n",
    "### plot S>B one-tailed two-sample ttest PPI result on the brain, 20230802\n",
    "(Fig S6)"
   ]
  },
  {
   "cell_type": "code",
   "execution_count": 9,
   "metadata": {},
   "outputs": [
    {
     "name": "stdout",
     "output_type": "stream",
     "text": [
      "colormap sequential: [1.00e+00, 2.00e+00, 5.00e+00] (transparent)\n"
     ]
    }
   ],
   "source": [
    "subject_id = \"fsaverage\"\n",
    "hemi = \"lh\"\n",
    "surf = \"inflated_pre\"\n",
    "\n",
    "brain = Brain(subject_id, hemi, surf, cortex = [np.array((205, 201, 194)) / 255.], background=\"white\", alpha = 1)  \n",
    "\n",
    "# S>B PPI\n",
    "figname = 'grp_PPIsig_B<S_FDR005' + hemi\n",
    "overlay_fs = \"../Data/Task/PPI/grp_B<S/T_mask_lh_fs_sm6.nii.gz\"\n",
    "\n",
    "overlay_fs_data = io.read_scalar_data(overlay_fs)\n",
    "\n",
    "# for cluster-level FDR p<0.05, real result: min_real = 3.44, max_real=5.45\n",
    "brain.add_data(overlay_fs_data, thresh=None, min = 1, mid = 2, max=5, center=None, transparent=True, colormap = \"Reds\") \n",
    "\n",
    "## save brain plot results\n",
    "brain.save_image('/Users/rinsen/New_Journey/VWFA/My_paper/paper_20190727/AllFigures/Figs_ai20211219/processing/' + figname + '.png')\n",
    "\n",
    "mlab.show()"
   ]
  },
  {
   "cell_type": "markdown",
   "metadata": {},
   "source": [
    "## plot peak LOC vertex location in fsavg4 for N = 13 \n",
    "\n",
    "(FigS7)"
   ]
  },
  {
   "cell_type": "code",
   "execution_count": 18,
   "metadata": {},
   "outputs": [],
   "source": [
    "# peak_idx_subj is from matlab, so peak_idx_subj-1 is the corresponding index in python\n",
    "coords_subj_lh = np.array([2314,568,2244,2242,146,380,2236,1624,2271,1615,2270,2239,567])-1\n",
    "subject_id = \"fsaverage4\"\n",
    "hemi = \"lh\"\n",
    "subjects_dir = os.environ[\"SUBJECTS_DIR\"]\n",
    "surf = \"inflated-from-fsaverage\"\n",
    "brain = Brain(subject_id, hemi, surf, cortex = [np.array((205, 201, 194)) / 255.], background=\"white\", alpha = 1)  \n",
    "\n",
    "scale_factor = 0.4\n",
    "\n",
    "vert = brain.geo[hemi].coords\n",
    "hemi_elecs = vert[list(coords_subj_lh)]\n",
    "if hemi_elecs.ndim == 1:\n",
    "     hemi_elecs = hemi_elecs[None]\n",
    "\n",
    "brain.add_foci(hemi_elecs, coords_as_verts=False, name=None, scale_factor=scale_factor, color=\"#E8A666\")\n",
    "\n",
    "mlab.show()"
   ]
  },
  {
   "cell_type": "markdown",
   "metadata": {},
   "source": [
    "# plot V1, LOC seed only"
   ]
  },
  {
   "cell_type": "code",
   "execution_count": 8,
   "metadata": {},
   "outputs": [],
   "source": [
    "subject_id = \"fsaverage\"\n",
    "hemi = \"lh\"\n",
    "\n",
    "surf = \"inflated_pre\"\n",
    "\n",
    "brain = Brain(subject_id, hemi, surf, cortex = [np.array((205, 201, 194)) / 255.], background=\"white\", alpha = 1)  # Newtest(20210514) for no curvature\n",
    "\n",
    "#plot seed using pysufer\n",
    "# LOC seed\n",
    "#brain.add_label(LOC(hemi, coords_lh_LOC, 'LOC'), borders = True, alpha = 1, color = '#fde989')  \n",
    "#brain.add_label(LOC(hemi, coords_lh_LOC, 'LOC'), borders = False, alpha = 1, color = '#fde989')  \n",
    "\n",
    "#brain.add_label(LOC(hemi, coords_rh_LOC, 'LOC'), borders = True, alpha = 1, color = '#fde989')  \n",
    "#brain.add_label(LOC(hemi, coords_rh_LOC, 'LOC'), borders = False, alpha = 1, color = '#fde989')  \n",
    "\n",
    "# V1 seed\n",
    "brain.add_label(V1(hemi, coords_lh_V1, 'V1'), borders = False, alpha = 1, color = '#BEF9CE')  \n",
    "#brain.add_label(V1(hemi, coords_rh_V1, 'V1'), borders = False, alpha = 1, color = '#BEF9CE')  \n",
    "\n",
    "mlab.show()"
   ]
  }
 ],
 "metadata": {
  "kernelspec": {
   "display_name": "Python 3 (ipykernel)",
   "language": "python",
   "name": "python3"
  },
  "language_info": {
   "codemirror_mode": {
    "name": "ipython",
    "version": 3
   },
   "file_extension": ".py",
   "mimetype": "text/x-python",
   "name": "python",
   "nbconvert_exporter": "python",
   "pygments_lexer": "ipython3",
   "version": "3.8.8"
  }
 },
 "nbformat": 4,
 "nbformat_minor": 1
}
